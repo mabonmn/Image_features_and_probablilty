{
  "nbformat": 4,
  "nbformat_minor": 0,
  "metadata": {
    "colab": {
      "name": "Master_Colab_For_SingleImage_Features P6.ipynb",
      "provenance": [],
      "collapsed_sections": [],
      "toc_visible": true,
      "authorship_tag": "ABX9TyPO5Cy8b5onpdUGQxbIbMpq",
      "include_colab_link": true
    },
    "kernelspec": {
      "name": "python3",
      "display_name": "Python 3"
    },
    "language_info": {
      "name": "python"
    },
    "widgets": {
      "application/vnd.jupyter.widget-state+json": {
        "85125cde5e064398bc9f321ef4c4cad2": {
          "model_module": "@jupyter-widgets/controls",
          "model_name": "HBoxModel",
          "model_module_version": "1.5.0",
          "state": {
            "_dom_classes": [],
            "_model_module": "@jupyter-widgets/controls",
            "_model_module_version": "1.5.0",
            "_model_name": "HBoxModel",
            "_view_count": null,
            "_view_module": "@jupyter-widgets/controls",
            "_view_module_version": "1.5.0",
            "_view_name": "HBoxView",
            "box_style": "",
            "children": [
              "IPY_MODEL_8b9030a832554322abe5054723e8907d",
              "IPY_MODEL_86e5d048de4f4e43b958d16673ef7202",
              "IPY_MODEL_ffc4182b2dac4f77b03ba97360d3516c"
            ],
            "layout": "IPY_MODEL_327f8604376b47728d6942b79b024e16"
          }
        },
        "8b9030a832554322abe5054723e8907d": {
          "model_module": "@jupyter-widgets/controls",
          "model_name": "HTMLModel",
          "model_module_version": "1.5.0",
          "state": {
            "_dom_classes": [],
            "_model_module": "@jupyter-widgets/controls",
            "_model_module_version": "1.5.0",
            "_model_name": "HTMLModel",
            "_view_count": null,
            "_view_module": "@jupyter-widgets/controls",
            "_view_module_version": "1.5.0",
            "_view_name": "HTMLView",
            "description": "",
            "description_tooltip": null,
            "layout": "IPY_MODEL_acb620888e4448ef874438b0b4b07943",
            "placeholder": "​",
            "style": "IPY_MODEL_a45350336f83422ab3c8ac98df4bf660",
            "value": "100%"
          }
        },
        "86e5d048de4f4e43b958d16673ef7202": {
          "model_module": "@jupyter-widgets/controls",
          "model_name": "FloatProgressModel",
          "model_module_version": "1.5.0",
          "state": {
            "_dom_classes": [],
            "_model_module": "@jupyter-widgets/controls",
            "_model_module_version": "1.5.0",
            "_model_name": "FloatProgressModel",
            "_view_count": null,
            "_view_module": "@jupyter-widgets/controls",
            "_view_module_version": "1.5.0",
            "_view_name": "ProgressView",
            "bar_style": "success",
            "description": "",
            "description_tooltip": null,
            "layout": "IPY_MODEL_9533d03bcf94454f91f95fc1d6ca9ec6",
            "max": 52147035,
            "min": 0,
            "orientation": "horizontal",
            "style": "IPY_MODEL_016a29029e8049ad879585f679c66e30",
            "value": 52147035
          }
        },
        "ffc4182b2dac4f77b03ba97360d3516c": {
          "model_module": "@jupyter-widgets/controls",
          "model_name": "HTMLModel",
          "model_module_version": "1.5.0",
          "state": {
            "_dom_classes": [],
            "_model_module": "@jupyter-widgets/controls",
            "_model_module_version": "1.5.0",
            "_model_name": "HTMLModel",
            "_view_count": null,
            "_view_module": "@jupyter-widgets/controls",
            "_view_module_version": "1.5.0",
            "_view_name": "HTMLView",
            "description": "",
            "description_tooltip": null,
            "layout": "IPY_MODEL_4d4b09b61c9e4f49868fb3fc6a27b3fc",
            "placeholder": "​",
            "style": "IPY_MODEL_2ca75e16c9854a2da09015c29bdb0521",
            "value": " 49.7M/49.7M [00:00&lt;00:00, 73.2MB/s]"
          }
        },
        "327f8604376b47728d6942b79b024e16": {
          "model_module": "@jupyter-widgets/base",
          "model_name": "LayoutModel",
          "model_module_version": "1.2.0",
          "state": {
            "_model_module": "@jupyter-widgets/base",
            "_model_module_version": "1.2.0",
            "_model_name": "LayoutModel",
            "_view_count": null,
            "_view_module": "@jupyter-widgets/base",
            "_view_module_version": "1.2.0",
            "_view_name": "LayoutView",
            "align_content": null,
            "align_items": null,
            "align_self": null,
            "border": null,
            "bottom": null,
            "display": null,
            "flex": null,
            "flex_flow": null,
            "grid_area": null,
            "grid_auto_columns": null,
            "grid_auto_flow": null,
            "grid_auto_rows": null,
            "grid_column": null,
            "grid_gap": null,
            "grid_row": null,
            "grid_template_areas": null,
            "grid_template_columns": null,
            "grid_template_rows": null,
            "height": null,
            "justify_content": null,
            "justify_items": null,
            "left": null,
            "margin": null,
            "max_height": null,
            "max_width": null,
            "min_height": null,
            "min_width": null,
            "object_fit": null,
            "object_position": null,
            "order": null,
            "overflow": null,
            "overflow_x": null,
            "overflow_y": null,
            "padding": null,
            "right": null,
            "top": null,
            "visibility": null,
            "width": null
          }
        },
        "acb620888e4448ef874438b0b4b07943": {
          "model_module": "@jupyter-widgets/base",
          "model_name": "LayoutModel",
          "model_module_version": "1.2.0",
          "state": {
            "_model_module": "@jupyter-widgets/base",
            "_model_module_version": "1.2.0",
            "_model_name": "LayoutModel",
            "_view_count": null,
            "_view_module": "@jupyter-widgets/base",
            "_view_module_version": "1.2.0",
            "_view_name": "LayoutView",
            "align_content": null,
            "align_items": null,
            "align_self": null,
            "border": null,
            "bottom": null,
            "display": null,
            "flex": null,
            "flex_flow": null,
            "grid_area": null,
            "grid_auto_columns": null,
            "grid_auto_flow": null,
            "grid_auto_rows": null,
            "grid_column": null,
            "grid_gap": null,
            "grid_row": null,
            "grid_template_areas": null,
            "grid_template_columns": null,
            "grid_template_rows": null,
            "height": null,
            "justify_content": null,
            "justify_items": null,
            "left": null,
            "margin": null,
            "max_height": null,
            "max_width": null,
            "min_height": null,
            "min_width": null,
            "object_fit": null,
            "object_position": null,
            "order": null,
            "overflow": null,
            "overflow_x": null,
            "overflow_y": null,
            "padding": null,
            "right": null,
            "top": null,
            "visibility": null,
            "width": null
          }
        },
        "a45350336f83422ab3c8ac98df4bf660": {
          "model_module": "@jupyter-widgets/controls",
          "model_name": "DescriptionStyleModel",
          "model_module_version": "1.5.0",
          "state": {
            "_model_module": "@jupyter-widgets/controls",
            "_model_module_version": "1.5.0",
            "_model_name": "DescriptionStyleModel",
            "_view_count": null,
            "_view_module": "@jupyter-widgets/base",
            "_view_module_version": "1.2.0",
            "_view_name": "StyleView",
            "description_width": ""
          }
        },
        "9533d03bcf94454f91f95fc1d6ca9ec6": {
          "model_module": "@jupyter-widgets/base",
          "model_name": "LayoutModel",
          "model_module_version": "1.2.0",
          "state": {
            "_model_module": "@jupyter-widgets/base",
            "_model_module_version": "1.2.0",
            "_model_name": "LayoutModel",
            "_view_count": null,
            "_view_module": "@jupyter-widgets/base",
            "_view_module_version": "1.2.0",
            "_view_name": "LayoutView",
            "align_content": null,
            "align_items": null,
            "align_self": null,
            "border": null,
            "bottom": null,
            "display": null,
            "flex": null,
            "flex_flow": null,
            "grid_area": null,
            "grid_auto_columns": null,
            "grid_auto_flow": null,
            "grid_auto_rows": null,
            "grid_column": null,
            "grid_gap": null,
            "grid_row": null,
            "grid_template_areas": null,
            "grid_template_columns": null,
            "grid_template_rows": null,
            "height": null,
            "justify_content": null,
            "justify_items": null,
            "left": null,
            "margin": null,
            "max_height": null,
            "max_width": null,
            "min_height": null,
            "min_width": null,
            "object_fit": null,
            "object_position": null,
            "order": null,
            "overflow": null,
            "overflow_x": null,
            "overflow_y": null,
            "padding": null,
            "right": null,
            "top": null,
            "visibility": null,
            "width": null
          }
        },
        "016a29029e8049ad879585f679c66e30": {
          "model_module": "@jupyter-widgets/controls",
          "model_name": "ProgressStyleModel",
          "model_module_version": "1.5.0",
          "state": {
            "_model_module": "@jupyter-widgets/controls",
            "_model_module_version": "1.5.0",
            "_model_name": "ProgressStyleModel",
            "_view_count": null,
            "_view_module": "@jupyter-widgets/base",
            "_view_module_version": "1.2.0",
            "_view_name": "StyleView",
            "bar_color": null,
            "description_width": ""
          }
        },
        "4d4b09b61c9e4f49868fb3fc6a27b3fc": {
          "model_module": "@jupyter-widgets/base",
          "model_name": "LayoutModel",
          "model_module_version": "1.2.0",
          "state": {
            "_model_module": "@jupyter-widgets/base",
            "_model_module_version": "1.2.0",
            "_model_name": "LayoutModel",
            "_view_count": null,
            "_view_module": "@jupyter-widgets/base",
            "_view_module_version": "1.2.0",
            "_view_name": "LayoutView",
            "align_content": null,
            "align_items": null,
            "align_self": null,
            "border": null,
            "bottom": null,
            "display": null,
            "flex": null,
            "flex_flow": null,
            "grid_area": null,
            "grid_auto_columns": null,
            "grid_auto_flow": null,
            "grid_auto_rows": null,
            "grid_column": null,
            "grid_gap": null,
            "grid_row": null,
            "grid_template_areas": null,
            "grid_template_columns": null,
            "grid_template_rows": null,
            "height": null,
            "justify_content": null,
            "justify_items": null,
            "left": null,
            "margin": null,
            "max_height": null,
            "max_width": null,
            "min_height": null,
            "min_width": null,
            "object_fit": null,
            "object_position": null,
            "order": null,
            "overflow": null,
            "overflow_x": null,
            "overflow_y": null,
            "padding": null,
            "right": null,
            "top": null,
            "visibility": null,
            "width": null
          }
        },
        "2ca75e16c9854a2da09015c29bdb0521": {
          "model_module": "@jupyter-widgets/controls",
          "model_name": "DescriptionStyleModel",
          "model_module_version": "1.5.0",
          "state": {
            "_model_module": "@jupyter-widgets/controls",
            "_model_module_version": "1.5.0",
            "_model_name": "DescriptionStyleModel",
            "_view_count": null,
            "_view_module": "@jupyter-widgets/base",
            "_view_module_version": "1.2.0",
            "_view_name": "StyleView",
            "description_width": ""
          }
        },
        "3ae25062e45046109bdc9fcc997d4956": {
          "model_module": "@jupyter-widgets/controls",
          "model_name": "HBoxModel",
          "model_module_version": "1.5.0",
          "state": {
            "_dom_classes": [],
            "_model_module": "@jupyter-widgets/controls",
            "_model_module_version": "1.5.0",
            "_model_name": "HBoxModel",
            "_view_count": null,
            "_view_module": "@jupyter-widgets/controls",
            "_view_module_version": "1.5.0",
            "_view_name": "HBoxView",
            "box_style": "",
            "children": [
              "IPY_MODEL_a326a1b272bd4d85b198eff51e52fea0",
              "IPY_MODEL_90f985c9d38a4f9c89440458a7ed75ec",
              "IPY_MODEL_03660fdeab394bdea78bd966ee786035"
            ],
            "layout": "IPY_MODEL_844426fedae54440a5b9219c8cb10df3"
          }
        },
        "a326a1b272bd4d85b198eff51e52fea0": {
          "model_module": "@jupyter-widgets/controls",
          "model_name": "HTMLModel",
          "model_module_version": "1.5.0",
          "state": {
            "_dom_classes": [],
            "_model_module": "@jupyter-widgets/controls",
            "_model_module_version": "1.5.0",
            "_model_name": "HTMLModel",
            "_view_count": null,
            "_view_module": "@jupyter-widgets/controls",
            "_view_module_version": "1.5.0",
            "_view_name": "HTMLView",
            "description": "",
            "description_tooltip": null,
            "layout": "IPY_MODEL_5a752780431348c4ac3773897655ea97",
            "placeholder": "​",
            "style": "IPY_MODEL_a7554ba657f8474fa0a840e567a440e6",
            "value": "100%"
          }
        },
        "90f985c9d38a4f9c89440458a7ed75ec": {
          "model_module": "@jupyter-widgets/controls",
          "model_name": "FloatProgressModel",
          "model_module_version": "1.5.0",
          "state": {
            "_dom_classes": [],
            "_model_module": "@jupyter-widgets/controls",
            "_model_module_version": "1.5.0",
            "_model_name": "FloatProgressModel",
            "_view_count": null,
            "_view_module": "@jupyter-widgets/controls",
            "_view_module_version": "1.5.0",
            "_view_name": "ProgressView",
            "bar_style": "success",
            "description": "",
            "description_tooltip": null,
            "layout": "IPY_MODEL_af75ab2d4d874a76a45a2427469a0c6e",
            "max": 241627721,
            "min": 0,
            "orientation": "horizontal",
            "style": "IPY_MODEL_ff4cf1138bff4ffaa3f7ce6f74b8b649",
            "value": 241627721
          }
        },
        "03660fdeab394bdea78bd966ee786035": {
          "model_module": "@jupyter-widgets/controls",
          "model_name": "HTMLModel",
          "model_module_version": "1.5.0",
          "state": {
            "_dom_classes": [],
            "_model_module": "@jupyter-widgets/controls",
            "_model_module_version": "1.5.0",
            "_model_name": "HTMLModel",
            "_view_count": null,
            "_view_module": "@jupyter-widgets/controls",
            "_view_module_version": "1.5.0",
            "_view_name": "HTMLView",
            "description": "",
            "description_tooltip": null,
            "layout": "IPY_MODEL_1c844a9add6542168d586a9904c61877",
            "placeholder": "​",
            "style": "IPY_MODEL_4812c5522f7d4e9896d89fbd1ff25298",
            "value": " 230M/230M [00:03&lt;00:00, 58.4MB/s]"
          }
        },
        "844426fedae54440a5b9219c8cb10df3": {
          "model_module": "@jupyter-widgets/base",
          "model_name": "LayoutModel",
          "model_module_version": "1.2.0",
          "state": {
            "_model_module": "@jupyter-widgets/base",
            "_model_module_version": "1.2.0",
            "_model_name": "LayoutModel",
            "_view_count": null,
            "_view_module": "@jupyter-widgets/base",
            "_view_module_version": "1.2.0",
            "_view_name": "LayoutView",
            "align_content": null,
            "align_items": null,
            "align_self": null,
            "border": null,
            "bottom": null,
            "display": null,
            "flex": null,
            "flex_flow": null,
            "grid_area": null,
            "grid_auto_columns": null,
            "grid_auto_flow": null,
            "grid_auto_rows": null,
            "grid_column": null,
            "grid_gap": null,
            "grid_row": null,
            "grid_template_areas": null,
            "grid_template_columns": null,
            "grid_template_rows": null,
            "height": null,
            "justify_content": null,
            "justify_items": null,
            "left": null,
            "margin": null,
            "max_height": null,
            "max_width": null,
            "min_height": null,
            "min_width": null,
            "object_fit": null,
            "object_position": null,
            "order": null,
            "overflow": null,
            "overflow_x": null,
            "overflow_y": null,
            "padding": null,
            "right": null,
            "top": null,
            "visibility": null,
            "width": null
          }
        },
        "5a752780431348c4ac3773897655ea97": {
          "model_module": "@jupyter-widgets/base",
          "model_name": "LayoutModel",
          "model_module_version": "1.2.0",
          "state": {
            "_model_module": "@jupyter-widgets/base",
            "_model_module_version": "1.2.0",
            "_model_name": "LayoutModel",
            "_view_count": null,
            "_view_module": "@jupyter-widgets/base",
            "_view_module_version": "1.2.0",
            "_view_name": "LayoutView",
            "align_content": null,
            "align_items": null,
            "align_self": null,
            "border": null,
            "bottom": null,
            "display": null,
            "flex": null,
            "flex_flow": null,
            "grid_area": null,
            "grid_auto_columns": null,
            "grid_auto_flow": null,
            "grid_auto_rows": null,
            "grid_column": null,
            "grid_gap": null,
            "grid_row": null,
            "grid_template_areas": null,
            "grid_template_columns": null,
            "grid_template_rows": null,
            "height": null,
            "justify_content": null,
            "justify_items": null,
            "left": null,
            "margin": null,
            "max_height": null,
            "max_width": null,
            "min_height": null,
            "min_width": null,
            "object_fit": null,
            "object_position": null,
            "order": null,
            "overflow": null,
            "overflow_x": null,
            "overflow_y": null,
            "padding": null,
            "right": null,
            "top": null,
            "visibility": null,
            "width": null
          }
        },
        "a7554ba657f8474fa0a840e567a440e6": {
          "model_module": "@jupyter-widgets/controls",
          "model_name": "DescriptionStyleModel",
          "model_module_version": "1.5.0",
          "state": {
            "_model_module": "@jupyter-widgets/controls",
            "_model_module_version": "1.5.0",
            "_model_name": "DescriptionStyleModel",
            "_view_count": null,
            "_view_module": "@jupyter-widgets/base",
            "_view_module_version": "1.2.0",
            "_view_name": "StyleView",
            "description_width": ""
          }
        },
        "af75ab2d4d874a76a45a2427469a0c6e": {
          "model_module": "@jupyter-widgets/base",
          "model_name": "LayoutModel",
          "model_module_version": "1.2.0",
          "state": {
            "_model_module": "@jupyter-widgets/base",
            "_model_module_version": "1.2.0",
            "_model_name": "LayoutModel",
            "_view_count": null,
            "_view_module": "@jupyter-widgets/base",
            "_view_module_version": "1.2.0",
            "_view_name": "LayoutView",
            "align_content": null,
            "align_items": null,
            "align_self": null,
            "border": null,
            "bottom": null,
            "display": null,
            "flex": null,
            "flex_flow": null,
            "grid_area": null,
            "grid_auto_columns": null,
            "grid_auto_flow": null,
            "grid_auto_rows": null,
            "grid_column": null,
            "grid_gap": null,
            "grid_row": null,
            "grid_template_areas": null,
            "grid_template_columns": null,
            "grid_template_rows": null,
            "height": null,
            "justify_content": null,
            "justify_items": null,
            "left": null,
            "margin": null,
            "max_height": null,
            "max_width": null,
            "min_height": null,
            "min_width": null,
            "object_fit": null,
            "object_position": null,
            "order": null,
            "overflow": null,
            "overflow_x": null,
            "overflow_y": null,
            "padding": null,
            "right": null,
            "top": null,
            "visibility": null,
            "width": null
          }
        },
        "ff4cf1138bff4ffaa3f7ce6f74b8b649": {
          "model_module": "@jupyter-widgets/controls",
          "model_name": "ProgressStyleModel",
          "model_module_version": "1.5.0",
          "state": {
            "_model_module": "@jupyter-widgets/controls",
            "_model_module_version": "1.5.0",
            "_model_name": "ProgressStyleModel",
            "_view_count": null,
            "_view_module": "@jupyter-widgets/base",
            "_view_module_version": "1.2.0",
            "_view_name": "StyleView",
            "bar_color": null,
            "description_width": ""
          }
        },
        "1c844a9add6542168d586a9904c61877": {
          "model_module": "@jupyter-widgets/base",
          "model_name": "LayoutModel",
          "model_module_version": "1.2.0",
          "state": {
            "_model_module": "@jupyter-widgets/base",
            "_model_module_version": "1.2.0",
            "_model_name": "LayoutModel",
            "_view_count": null,
            "_view_module": "@jupyter-widgets/base",
            "_view_module_version": "1.2.0",
            "_view_name": "LayoutView",
            "align_content": null,
            "align_items": null,
            "align_self": null,
            "border": null,
            "bottom": null,
            "display": null,
            "flex": null,
            "flex_flow": null,
            "grid_area": null,
            "grid_auto_columns": null,
            "grid_auto_flow": null,
            "grid_auto_rows": null,
            "grid_column": null,
            "grid_gap": null,
            "grid_row": null,
            "grid_template_areas": null,
            "grid_template_columns": null,
            "grid_template_rows": null,
            "height": null,
            "justify_content": null,
            "justify_items": null,
            "left": null,
            "margin": null,
            "max_height": null,
            "max_width": null,
            "min_height": null,
            "min_width": null,
            "object_fit": null,
            "object_position": null,
            "order": null,
            "overflow": null,
            "overflow_x": null,
            "overflow_y": null,
            "padding": null,
            "right": null,
            "top": null,
            "visibility": null,
            "width": null
          }
        },
        "4812c5522f7d4e9896d89fbd1ff25298": {
          "model_module": "@jupyter-widgets/controls",
          "model_name": "DescriptionStyleModel",
          "model_module_version": "1.5.0",
          "state": {
            "_model_module": "@jupyter-widgets/controls",
            "_model_module_version": "1.5.0",
            "_model_name": "DescriptionStyleModel",
            "_view_count": null,
            "_view_module": "@jupyter-widgets/base",
            "_view_module_version": "1.2.0",
            "_view_name": "StyleView",
            "description_width": ""
          }
        }
      }
    }
  },
  "cells": [
    {
      "cell_type": "markdown",
      "metadata": {
        "id": "view-in-github",
        "colab_type": "text"
      },
      "source": [
        "<a href=\"https://colab.research.google.com/github/mabonmn/Image_features_and_probablilty/blob/main/Master_Colab_For_SingleImage_Features_P6.ipynb\" target=\"_parent\"><img src=\"https://colab.research.google.com/assets/colab-badge.svg\" alt=\"Open In Colab\"/></a>"
      ]
    },
    {
      "cell_type": "markdown",
      "source": [
        "This Colab is intended to be used for single frames/images. This colab is capable of classifiying images and producing features for 3 main models, ie \n",
        "\n",
        "> GoogLeNet: pytorch/vision:v0.10.0 from pytorch\n",
        "\n",
        "> ResNet: resnet152 from pytorch\n",
        "\n",
        "> Clip 'RN50' from https://github.com/openai/CLIP.git"
      ],
      "metadata": {
        "id": "Ls3E52RkFfKW"
      }
    },
    {
      "cell_type": "markdown",
      "source": [
        "#Packages"
      ],
      "metadata": {
        "id": "9DmHq6eGYAtf"
      }
    },
    {
      "cell_type": "code",
      "execution_count": null,
      "metadata": {
        "colab": {
          "base_uri": "https://localhost:8080/"
        },
        "id": "lkFztticRpM6",
        "outputId": "e9d04932-a703-4ebc-e928-ce50180d8a67"
      },
      "outputs": [
        {
          "output_type": "stream",
          "name": "stdout",
          "text": [
            "Collecting git+https://github.com/openai/CLIP.git\n",
            "  Cloning https://github.com/openai/CLIP.git to /tmp/pip-req-build-fj8h0sf6\n",
            "  Running command git clone -q https://github.com/openai/CLIP.git /tmp/pip-req-build-fj8h0sf6\n",
            "Collecting ftfy\n",
            "  Downloading ftfy-6.1.1-py3-none-any.whl (53 kB)\n",
            "\u001b[K     |████████████████████████████████| 53 kB 1.1 MB/s \n",
            "\u001b[?25hRequirement already satisfied: regex in /usr/local/lib/python3.7/dist-packages (from clip==1.0) (2019.12.20)\n",
            "Requirement already satisfied: tqdm in /usr/local/lib/python3.7/dist-packages (from clip==1.0) (4.64.0)\n",
            "Requirement already satisfied: torch in /usr/local/lib/python3.7/dist-packages (from clip==1.0) (1.10.0+cu111)\n",
            "Requirement already satisfied: torchvision in /usr/local/lib/python3.7/dist-packages (from clip==1.0) (0.11.1+cu111)\n",
            "Requirement already satisfied: wcwidth>=0.2.5 in /usr/local/lib/python3.7/dist-packages (from ftfy->clip==1.0) (0.2.5)\n",
            "Requirement already satisfied: typing-extensions in /usr/local/lib/python3.7/dist-packages (from torch->clip==1.0) (4.1.1)\n",
            "Requirement already satisfied: numpy in /usr/local/lib/python3.7/dist-packages (from torchvision->clip==1.0) (1.21.6)\n",
            "Requirement already satisfied: pillow!=8.3.0,>=5.3.0 in /usr/local/lib/python3.7/dist-packages (from torchvision->clip==1.0) (7.1.2)\n",
            "Building wheels for collected packages: clip\n",
            "  Building wheel for clip (setup.py) ... \u001b[?25l\u001b[?25hdone\n",
            "  Created wheel for clip: filename=clip-1.0-py3-none-any.whl size=1369328 sha256=2fc9beb60a9d1c9d9300e59d23dbeb45154903452744e1b2a4d8edf81ab48be9\n",
            "  Stored in directory: /tmp/pip-ephem-wheel-cache-565jfvvw/wheels/fd/b9/c3/5b4470e35ed76e174bff77c92f91da82098d5e35fd5bc8cdac\n",
            "Successfully built clip\n",
            "Installing collected packages: ftfy, clip\n",
            "Successfully installed clip-1.0 ftfy-6.1.1\n"
          ]
        }
      ],
      "source": [
        "!pip install git+https://github.com/openai/CLIP.git\n",
        "import torch\n",
        "import clip\n",
        "import torch.nn as nn\n",
        "from torchvision import models\n",
        "from torchvision import transforms\n",
        "import numpy as np\n",
        "import pandas as pd\n",
        "from PIL import Image\n",
        "import matplotlib.pyplot as plt\n"
      ]
    },
    {
      "cell_type": "code",
      "source": [
        "!wget https://raw.githubusercontent.com/pytorch/hub/master/imagenet_classes.txt\n",
        "with open(\"imagenet_classes.txt\", \"r\") as f:\n",
        "    categories = [s.strip() for s in f.readlines()]   \n",
        " "
      ],
      "metadata": {
        "colab": {
          "base_uri": "https://localhost:8080/"
        },
        "id": "H5HPB9-rR5pp",
        "outputId": "9386845d-5d1a-44a8-dc80-416b61c17d29"
      },
      "execution_count": null,
      "outputs": [
        {
          "output_type": "stream",
          "name": "stdout",
          "text": [
            "--2022-04-19 18:47:42--  https://raw.githubusercontent.com/pytorch/hub/master/imagenet_classes.txt\n",
            "Resolving raw.githubusercontent.com (raw.githubusercontent.com)... 185.199.111.133, 185.199.110.133, 185.199.108.133, ...\n",
            "Connecting to raw.githubusercontent.com (raw.githubusercontent.com)|185.199.111.133|:443... connected.\n",
            "HTTP request sent, awaiting response... 200 OK\n",
            "Length: 10472 (10K) [text/plain]\n",
            "Saving to: ‘imagenet_classes.txt’\n",
            "\n",
            "\rimagenet_classes.tx   0%[                    ]       0  --.-KB/s               \rimagenet_classes.tx 100%[===================>]  10.23K  --.-KB/s    in 0s      \n",
            "\n",
            "2022-04-19 18:47:42 (87.1 MB/s) - ‘imagenet_classes.txt’ saved [10472/10472]\n",
            "\n"
          ]
        }
      ]
    },
    {
      "cell_type": "markdown",
      "source": [
        "#Input Image"
      ],
      "metadata": {
        "id": "KrXyrid9YG7l"
      }
    },
    {
      "cell_type": "code",
      "source": [
        "#Sample Image\n",
        "!gdown --id 1tdIiGtBxQ5gOouiN6Jcuy7L6VEtBjlO3"
      ],
      "metadata": {
        "colab": {
          "base_uri": "https://localhost:8080/"
        },
        "id": "ZCr7mTW2SlL0",
        "outputId": "7dcc64ee-21a7-4081-f3ea-d286c22d5279"
      },
      "execution_count": null,
      "outputs": [
        {
          "output_type": "stream",
          "name": "stdout",
          "text": [
            "/usr/local/lib/python3.7/dist-packages/gdown/cli.py:131: FutureWarning: Option `--id` was deprecated in version 4.3.1 and will be removed in 5.0. You don't need to pass it anymore to use a file ID.\n",
            "  category=FutureWarning,\n",
            "Downloading...\n",
            "From: https://drive.google.com/uc?id=1tdIiGtBxQ5gOouiN6Jcuy7L6VEtBjlO3\n",
            "To: /content/0.png\n",
            "100% 215k/215k [00:00<00:00, 88.9MB/s]\n"
          ]
        }
      ]
    },
    {
      "cell_type": "code",
      "source": [
        "image_path=\"/content/0.png\""
      ],
      "metadata": {
        "id": "N7UTwr-kSP5O"
      },
      "execution_count": null,
      "outputs": []
    },
    {
      "cell_type": "code",
      "source": [
        "input_image=Image.open(image_path)"
      ],
      "metadata": {
        "id": "ECIk5FelSP1P"
      },
      "execution_count": null,
      "outputs": []
    },
    {
      "cell_type": "code",
      "source": [
        "plt.imshow(input_image)"
      ],
      "metadata": {
        "colab": {
          "base_uri": "https://localhost:8080/",
          "height": 212
        },
        "id": "BRxDlD0xS2Jv",
        "outputId": "a3c50b3b-46a5-422b-80d4-cf8ebf764fae"
      },
      "execution_count": null,
      "outputs": [
        {
          "output_type": "execute_result",
          "data": {
            "text/plain": [
              "<matplotlib.image.AxesImage at 0x7fa58e4ed490>"
            ]
          },
          "metadata": {},
          "execution_count": 6
        },
        {
          "output_type": "display_data",
          "data": {
            "text/plain": [
              "<Figure size 432x288 with 1 Axes>"
            ],
            "image/png": "[encoded data removed]"
          },
          "metadata": {
            "needs_background": "light"
          }
        }
      ]
    },
    {
      "cell_type": "code",
      "source": [
        "preprocess = transforms.Compose([\n",
        "    transforms.Resize(256),\n",
        "    transforms.CenterCrop(224),\n",
        "    transforms.ToTensor(),\n",
        "    transforms.Normalize(mean=[0.485, 0.456, 0.406], std=[0.229, 0.224, 0.225]),\n",
        "])"
      ],
      "metadata": {
        "id": "7KiT-p6sT308"
      },
      "execution_count": null,
      "outputs": []
    },
    {
      "cell_type": "markdown",
      "source": [
        "#Models"
      ],
      "metadata": {
        "id": "UaXGV9laYMJa"
      }
    },
    {
      "cell_type": "markdown",
      "source": [
        "##GoogLeNet"
      ],
      "metadata": {
        "id": "EEexWshTYN8m"
      }
    },
    {
      "cell_type": "code",
      "source": [
        "model1 = torch.hub.load('pytorch/vision:v0.10.0', 'googlenet', pretrained=True)\n",
        "model1.eval()\n",
        "print(\" \")\n"
      ],
      "metadata": {
        "colab": {
          "base_uri": "https://localhost:8080/",
          "height": 101,
          "referenced_widgets": [
            "85125cde5e064398bc9f321ef4c4cad2",
            "8b9030a832554322abe5054723e8907d",
            "86e5d048de4f4e43b958d16673ef7202",
            "ffc4182b2dac4f77b03ba97360d3516c",
            "327f8604376b47728d6942b79b024e16",
            "acb620888e4448ef874438b0b4b07943",
            "a45350336f83422ab3c8ac98df4bf660",
            "9533d03bcf94454f91f95fc1d6ca9ec6",
            "016a29029e8049ad879585f679c66e30",
            "4d4b09b61c9e4f49868fb3fc6a27b3fc",
            "2ca75e16c9854a2da09015c29bdb0521"
          ]
        },
        "id": "0yEHQPyWR5i5",
        "outputId": "98b7f19f-f944-4b40-da61-c07dc19b4dd7"
      },
      "execution_count": null,
      "outputs": [
        {
          "output_type": "stream",
          "name": "stderr",
          "text": [
            "Downloading: \"https://github.com/pytorch/vision/archive/v0.10.0.zip\" to /root/.cache/torch/hub/v0.10.0.zip\n",
            "Downloading: \"https://download.pytorch.org/models/googlenet-1378be20.pth\" to /root/.cache/torch/hub/checkpoints/googlenet-1378be20.pth\n"
          ]
        },
        {
          "output_type": "display_data",
          "data": {
            "text/plain": [
              "  0%|          | 0.00/49.7M [00:00<?, ?B/s]"
            ],
            "application/vnd.jupyter.widget-view+json": {
              "version_major": 2,
              "version_minor": 0,
              "model_id": "85125cde5e064398bc9f321ef4c4cad2"
            }
          },
          "metadata": {}
        },
        {
          "output_type": "stream",
          "name": "stdout",
          "text": [
            " \n"
          ]
        }
      ]
    },
    {
      "cell_type": "code",
      "source": [
        "model2= torch.hub.load('pytorch/vision:v0.10.0', 'googlenet', pretrained=True)\n",
        "model2 = nn.Sequential(*list(model2.children())[:-1])\n",
        "model2.eval()\n",
        "print(\" \")"
      ],
      "metadata": {
        "colab": {
          "base_uri": "https://localhost:8080/"
        },
        "id": "oWSjxv0DR5km",
        "outputId": "b5e7a894-7b42-4c9f-8663-f29d915271f4"
      },
      "execution_count": null,
      "outputs": [
        {
          "output_type": "stream",
          "name": "stderr",
          "text": [
            "Using cache found in /root/.cache/torch/hub/pytorch_vision_v0.10.0\n"
          ]
        },
        {
          "output_type": "stream",
          "name": "stdout",
          "text": [
            " \n"
          ]
        }
      ]
    },
    {
      "cell_type": "code",
      "source": [
        "input_tensor = preprocess(input_image)\n",
        "input_batch = input_tensor.unsqueeze(0) # create a mini-batch as expected by the model\n",
        "\n",
        "# move the input and model to GPU for speed if available\n",
        "if torch.cuda.is_available():\n",
        "    input_batch = input_batch.to('cuda')\n",
        "    model1.to('cuda')\n",
        "    model2.to('cuda')\n",
        "\n",
        "    \n",
        "with torch.no_grad():\n",
        "    #For Prob:\n",
        "    output = model1(input_batch)\n",
        "\n",
        "    #For Features:\n",
        "    major_output = model2(input_batch)\n",
        "    features1=major_output[0].view(-1).numpy()\n",
        "\n",
        "#frame prob using recomended extration from torch.hub\n",
        "probabilities = torch.nn.functional.softmax(output[0], dim=0)\n",
        "top5_prob1, top5_catid1 = torch.topk(probabilities, 5)\n",
        "\n",
        "top5_prob1=np.array(top5_prob1)\n",
        "top5_catid1=np.array(top5_catid1)"
      ],
      "metadata": {
        "id": "m35ar2pZUMU5"
      },
      "execution_count": null,
      "outputs": []
    },
    {
      "cell_type": "markdown",
      "source": [
        "###Result:GoogLeNet"
      ],
      "metadata": {
        "id": "_ZADKrOh9sLD"
      }
    },
    {
      "cell_type": "markdown",
      "source": [
        "###Probabilities"
      ],
      "metadata": {
        "id": "dQl3H05HEu9r"
      }
    },
    {
      "cell_type": "code",
      "source": [
        "print(\"GOOGLENET: \")\n",
        "for j in range(5):\n",
        "    print(categories[(top5_catid1)[j]]+\" : \"+str(((top5_prob1)[j]*100)))\n"
      ],
      "metadata": {
        "colab": {
          "base_uri": "https://localhost:8080/"
        },
        "id": "PAdnWruoa-NJ",
        "outputId": "1c31aab9-3405-4f7e-d94f-1e38889e6008"
      },
      "execution_count": null,
      "outputs": [
        {
          "output_type": "stream",
          "name": "stdout",
          "text": [
            "GOOGLENET: \n",
            "sports car : 43.96614134311676\n",
            "racer : 11.195775866508484\n",
            "beach wagon : 6.392101943492889\n",
            "car wheel : 5.905703827738762\n",
            "limousine : 5.380546674132347\n"
          ]
        }
      ]
    },
    {
      "cell_type": "markdown",
      "source": [
        "###Features"
      ],
      "metadata": {
        "id": "CYmo1V2aE81P"
      }
    },
    {
      "cell_type": "code",
      "source": [
        "print(\"Features: \")\n",
        "print(pd.DataFrame(features1))\n",
        "#For Saving Features\n",
        "#features1.to_csv(index=False)"
      ],
      "metadata": {
        "colab": {
          "base_uri": "https://localhost:8080/"
        },
        "id": "K-gtJ8SjE8Ty",
        "outputId": "af64653b-77cd-460e-c81a-3effc7a6760a"
      },
      "execution_count": null,
      "outputs": [
        {
          "output_type": "stream",
          "name": "stdout",
          "text": [
            "Features: \n",
            "             0\n",
            "0     0.765481\n",
            "1     0.131216\n",
            "2     0.161687\n",
            "3     0.010697\n",
            "4     0.001131\n",
            "...        ...\n",
            "1019  1.073602\n",
            "1020  0.175030\n",
            "1021  0.221760\n",
            "1022  0.007006\n",
            "1023  0.145207\n",
            "\n",
            "[1024 rows x 1 columns]\n"
          ]
        }
      ]
    },
    {
      "cell_type": "markdown",
      "source": [
        "##Resnet"
      ],
      "metadata": {
        "id": "L6EoozRHfjnb"
      }
    },
    {
      "cell_type": "code",
      "source": [
        "model3=models.resnet152(pretrained=True)\n",
        "model3.eval()\n",
        "print(\" \")"
      ],
      "metadata": {
        "colab": {
          "base_uri": "https://localhost:8080/",
          "height": 84,
          "referenced_widgets": [
            "3ae25062e45046109bdc9fcc997d4956",
            "a326a1b272bd4d85b198eff51e52fea0",
            "90f985c9d38a4f9c89440458a7ed75ec",
            "03660fdeab394bdea78bd966ee786035",
            "844426fedae54440a5b9219c8cb10df3",
            "5a752780431348c4ac3773897655ea97",
            "a7554ba657f8474fa0a840e567a440e6",
            "af75ab2d4d874a76a45a2427469a0c6e",
            "ff4cf1138bff4ffaa3f7ce6f74b8b649",
            "1c844a9add6542168d586a9904c61877",
            "4812c5522f7d4e9896d89fbd1ff25298"
          ]
        },
        "id": "Dc1o8orSplNy",
        "outputId": "f04905c5-838e-4cba-d6bc-b8c9f04a2a36"
      },
      "execution_count": null,
      "outputs": [
        {
          "output_type": "stream",
          "name": "stderr",
          "text": [
            "Downloading: \"https://download.pytorch.org/models/resnet152-394f9c45.pth\" to /root/.cache/torch/hub/checkpoints/resnet152-394f9c45.pth\n"
          ]
        },
        {
          "output_type": "display_data",
          "data": {
            "text/plain": [
              "  0%|          | 0.00/230M [00:00<?, ?B/s]"
            ],
            "application/vnd.jupyter.widget-view+json": {
              "version_major": 2,
              "version_minor": 0,
              "model_id": "3ae25062e45046109bdc9fcc997d4956"
            }
          },
          "metadata": {}
        },
        {
          "output_type": "stream",
          "name": "stdout",
          "text": [
            " \n"
          ]
        }
      ]
    },
    {
      "cell_type": "code",
      "source": [
        "model4=models.resnet152(pretrained=True)\n",
        "model4 = nn.Sequential(*list(model4.children())[:-1])\n",
        "model4.eval()\n",
        "print(\" \")"
      ],
      "metadata": {
        "colab": {
          "base_uri": "https://localhost:8080/"
        },
        "id": "Yh2XulIwfiqc",
        "outputId": "7919b971-3a1e-4a67-da8e-60e18457c347"
      },
      "execution_count": null,
      "outputs": [
        {
          "output_type": "stream",
          "name": "stdout",
          "text": [
            " \n"
          ]
        }
      ]
    },
    {
      "cell_type": "code",
      "source": [
        "input_tensor = preprocess(input_image)\n",
        "input_batch = input_tensor.unsqueeze(0) # create a mini-batch as expected by the model\n",
        "\n",
        "# move the input and model to GPU for speed if available\n",
        "if torch.cuda.is_available():\n",
        "    input_batch = input_batch.to('cuda')\n",
        "    model3.to('cuda')\n",
        "    model4.to('cuda')\n",
        "\n",
        "    \n",
        "with torch.no_grad():\n",
        "    output = model3(input_batch)\n",
        "    major_output = model4(input_batch)\n",
        "    features2=major_output[0].view(-1).numpy()\n",
        "#frame prob using recomended extration from torch.hub\n",
        "probabilities = torch.nn.functional.softmax(output[0], dim=0)\n",
        "top5_prob2, top5_catid2 = torch.topk(probabilities, 5)\n",
        "top5_prob2=np.array(top5_prob2)\n",
        "top5_catid2=np.array(top5_catid2)"
      ],
      "metadata": {
        "id": "JRfrqAlrfijm"
      },
      "execution_count": null,
      "outputs": []
    },
    {
      "cell_type": "markdown",
      "source": [
        "###Result: ResNet"
      ],
      "metadata": {
        "id": "Yetpn-4s9mRS"
      }
    },
    {
      "cell_type": "markdown",
      "source": [
        "###Probabilities"
      ],
      "metadata": {
        "id": "EEDZ784yFGSX"
      }
    },
    {
      "cell_type": "code",
      "source": [
        "print(\"ResNet: \")\n",
        "for j in range(5):\n",
        "    print(categories[(top5_catid2)[j]]+\" : \"+str(((top5_prob2)[j]*100)))\n"
      ],
      "metadata": {
        "colab": {
          "base_uri": "https://localhost:8080/"
        },
        "id": "ZgGHgSl0rQoC",
        "outputId": "471f0458-a5cd-45ed-99ae-a6811a51c6fd"
      },
      "execution_count": null,
      "outputs": [
        {
          "output_type": "stream",
          "name": "stdout",
          "text": [
            "ResNet: \n",
            "sports car : 72.94265031814575\n",
            "racer : 17.385263741016388\n",
            "grille : 3.485378995537758\n",
            "car wheel : 2.780708484351635\n",
            "cab : 1.1968383565545082\n"
          ]
        }
      ]
    },
    {
      "cell_type": "markdown",
      "source": [
        "###Features"
      ],
      "metadata": {
        "id": "8J2Zu_7TFFz2"
      }
    },
    {
      "cell_type": "code",
      "source": [
        "print(\"Features: \")\n",
        "print(pd.DataFrame(features2))\n",
        "#For Saving Features\n",
        "#features2.to_csv(index=False)"
      ],
      "metadata": {
        "colab": {
          "base_uri": "https://localhost:8080/"
        },
        "id": "10Or4EFFFFOb",
        "outputId": "fb1fb344-aca0-4caa-8858-9809c881c0ae"
      },
      "execution_count": null,
      "outputs": [
        {
          "output_type": "stream",
          "name": "stdout",
          "text": [
            "Features: \n",
            "             0\n",
            "0     0.752426\n",
            "1     0.321645\n",
            "2     0.094134\n",
            "3     0.149049\n",
            "4     0.201785\n",
            "...        ...\n",
            "2043  0.373989\n",
            "2044  0.152276\n",
            "2045  0.299945\n",
            "2046  0.160176\n",
            "2047  0.110946\n",
            "\n",
            "[2048 rows x 1 columns]\n"
          ]
        }
      ]
    },
    {
      "cell_type": "markdown",
      "source": [
        "##Clip"
      ],
      "metadata": {
        "id": "e_J9rSR9YWnB"
      }
    },
    {
      "cell_type": "code",
      "source": [
        "device = \"cuda\" if torch.cuda.is_available() else \"cpu\"\n",
        "model5, preprocess_clip = clip.load('RN50', device)             #We use RN50 since it has features shapr pf 1*1024 which is the same as GoogLeNet"
      ],
      "metadata": {
        "id": "vjJkI8HUR5nT",
        "colab": {
          "base_uri": "https://localhost:8080/"
        },
        "outputId": "f9c7c119-9919-46a9-cc99-ab35d135767f"
      },
      "execution_count": null,
      "outputs": [
        {
          "output_type": "stream",
          "name": "stderr",
          "text": [
            "100%|███████████████████████████████████████| 244M/244M [00:02<00:00, 93.6MiB/s]\n"
          ]
        }
      ]
    },
    {
      "cell_type": "code",
      "source": [
        "text_inputs = torch.cat([clip.tokenize(f\"a photo of a {c}\") for c in categories]).to(device)\n",
        "with torch.no_grad():\n",
        "  text_features = model5.encode_text(text_inputs)"
      ],
      "metadata": {
        "id": "vlcV7MQnZ2Gr"
      },
      "execution_count": null,
      "outputs": []
    },
    {
      "cell_type": "code",
      "source": [
        "image_input = preprocess_clip(input_image).unsqueeze(0).to(device)\n",
        "# Calculate features\n",
        "with torch.no_grad():\n",
        "  image_features = model5.encode_image(image_input)\n",
        "  features3=model5.encode_image(image_input).detach().cpu().numpy()\n",
        "features3=np.array(features3)\n",
        "image_features /= image_features.norm(dim=-1, keepdim=True)\n",
        "text_features /= text_features.norm(dim=-1, keepdim=True)\n",
        "probabilities = (100.0 * image_features @ text_features.T).softmax(dim=-1)\n",
        "top5_prob3, top5_catid3 = probabilities[0].topk(5)\n",
        "top5_prob3=np.array(top5_prob2)\n",
        "top5_catid3=np.array(top5_catid2)"
      ],
      "metadata": {
        "id": "7xLvi526R5r9"
      },
      "execution_count": null,
      "outputs": []
    },
    {
      "cell_type": "markdown",
      "source": [
        "###Result:Clip"
      ],
      "metadata": {
        "id": "oQUDQ1ry9u6T"
      }
    },
    {
      "cell_type": "markdown",
      "source": [
        "###Probabilities"
      ],
      "metadata": {
        "id": "sSHFtcaMFMdv"
      }
    },
    {
      "cell_type": "code",
      "source": [
        "print(\"CLIP: \")\n",
        "for j in range(5):\n",
        "    print(categories[(top5_catid3)[j]]+\" : \"+str(((top5_prob3)[j]*100)))\n"
      ],
      "metadata": {
        "colab": {
          "base_uri": "https://localhost:8080/"
        },
        "id": "0900HoJyR5ur",
        "outputId": "9db43edb-6700-4b29-e5d9-5d4e6a149e27"
      },
      "execution_count": null,
      "outputs": [
        {
          "output_type": "stream",
          "name": "stdout",
          "text": [
            "CLIP: \n",
            "sports car : 72.94265031814575\n",
            "racer : 17.385263741016388\n",
            "grille : 3.485378995537758\n",
            "car wheel : 2.780708484351635\n",
            "cab : 1.1968383565545082\n"
          ]
        }
      ]
    },
    {
      "cell_type": "markdown",
      "source": [
        "###Features"
      ],
      "metadata": {
        "id": "KMxRe4MRFO59"
      }
    },
    {
      "cell_type": "code",
      "source": [
        "print(\"Features: \")\n",
        "print(pd.DataFrame(features3))\n",
        "#For Saving Features\n",
        "#features3.to_csv(index=False)"
      ],
      "metadata": {
        "id": "MrH-UMeRsvOR",
        "colab": {
          "base_uri": "https://localhost:8080/"
        },
        "outputId": "ed31d815-3cb6-4290-85f2-5f2c0aa5fa25"
      },
      "execution_count": null,
      "outputs": [
        {
          "output_type": "stream",
          "name": "stdout",
          "text": [
            "Features: \n",
            "       0         1         2         3         4         5         6     \\\n",
            "0 -0.011779  0.038902 -0.053396  0.006868  0.069593  0.038028  0.049727   \n",
            "\n",
            "       7         8         9     ...      1014      1015      1016      1017  \\\n",
            "0 -0.020445  0.002813 -0.547005  ... -0.075384  0.005353 -0.023544 -0.020216   \n",
            "\n",
            "       1018      1019      1020     1021      1022      1023  \n",
            "0  0.003445  0.008974  0.101361  0.07459  0.012182  0.127032  \n",
            "\n",
            "[1 rows x 1024 columns]\n"
          ]
        }
      ]
    }
  ]
}